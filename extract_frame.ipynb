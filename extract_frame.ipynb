{
 "cells": [
  {
   "cell_type": "code",
   "execution_count": null,
   "metadata": {
    "collapsed": true,
    "pycharm": {
     "name": "#%%\n"
    }
   },
   "outputs": [],
   "source": [
    "import cv2, os, glob\n",
    "import numpy as np\n",
    "import matplotlib.pyplot as plt"
   ]
  },
  {
   "cell_type": "markdown",
   "source": [
    "# frame 추출할 동영상 선택"
   ],
   "metadata": {
    "collapsed": false,
    "pycharm": {
     "name": "#%% md\n"
    }
   }
  },
  {
   "cell_type": "code",
   "execution_count": null,
   "outputs": [],
   "source": [
    "index = 0\n",
    "filepath = 'C:/Users/chang/video_data/20200830_4'\n",
    "videos = glob.glob(filepath+'/*.mov')\n",
    "videos += glob.glob(filepath+'/*.mp4')"
   ],
   "metadata": {
    "collapsed": false,
    "pycharm": {
     "name": "#%%\n"
    }
   }
  },
  {
   "cell_type": "markdown",
   "source": [
    "# frame 저장할 폴더 생성"
   ],
   "metadata": {
    "collapsed": false,
    "pycharm": {
     "name": "#%% md\n"
    }
   }
  },
  {
   "cell_type": "code",
   "execution_count": null,
   "outputs": [],
   "source": [
    "try :\n",
    "    os.mkdir(filepath+\"/frame\")\n",
    "except:\n",
    "    pass"
   ],
   "metadata": {
    "collapsed": false,
    "pycharm": {
     "name": "#%%\n"
    }
   }
  },
  {
   "cell_type": "code",
   "execution_count": null,
   "outputs": [],
   "source": [
    "for each_video in videos:\n",
    "    video = cv2.VideoCapture(each_video,apiPreference=cv2.CAP_MSMF)\n",
    "    fps = int(video.get(cv2.CAP_PROP_FPS)/10)\n",
    "\n",
    "    while (video.isOpened()):\n",
    "        ret, image = video.read()\n",
    "        if not ret:\n",
    "            break\n",
    "        # video가 종료돼 ret함수가 False를 반환하면 종료.\n",
    "        if (int(video.get(cv2.CAP_PROP_POS_FRAMES)) % fps == 0):  # 앞서 불러온 fps 값을 사용하여 특정 시간마다 추출\n",
    "            cv2.imwrite(filepath + \"/frame\"+\"/frame%d.jpg\" % index, image)\n",
    "            print('Saved frame number :', str(int(video.get(cv2.CAP_PROP_POS_FRAMES))))\n",
    "            index += 1\n",
    "    print(\"작업 완료\")\n",
    "video.release()"
   ],
   "metadata": {
    "collapsed": false,
    "pycharm": {
     "name": "#%%\n"
    }
   }
  }
 ],
 "metadata": {
  "kernelspec": {
   "display_name": "Python 3",
   "language": "python",
   "name": "python3"
  },
  "language_info": {
   "codemirror_mode": {
    "name": "ipython",
    "version": 2
   },
   "file_extension": ".py",
   "mimetype": "text/x-python",
   "name": "python",
   "nbconvert_exporter": "python",
   "pygments_lexer": "ipython2",
   "version": "2.7.6"
  }
 },
 "nbformat": 4,
 "nbformat_minor": 0
}